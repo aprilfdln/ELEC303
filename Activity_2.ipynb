{
 "cells": [
  {
   "cell_type": "markdown",
   "id": "418985c0-58b7-4f54-abb4-e4644731cb78",
   "metadata": {},
   "source": [
    "<h1>ACTIVITY2: UK Accident Data</h1>\n",
    "<hr>\n",
    "<h2>Analyst: Anne Fedelino</h2>"
   ]
  },
  {
   "cell_type": "code",
   "execution_count": 1,
   "id": "00927550-6986-41c6-b286-9ea3f0657b65",
   "metadata": {},
   "outputs": [],
   "source": [
    "import numpy as np\n",
    "import pandas as pd\n",
    "import warnings\n",
    "warnings.filterwarnings('ignore')"
   ]
  },
  {
   "cell_type": "code",
   "execution_count": 2,
   "id": "0e166392-a5fa-4e9f-9343-569f92c5cea4",
   "metadata": {},
   "outputs": [],
   "source": [
    "accident = pd.read_csv('datasets\\\\accident_data.csv')"
   ]
  },
  {
   "cell_type": "code",
   "execution_count": 3,
   "id": "506cba45-09fa-4e24-9749-ab8323fd674d",
   "metadata": {
    "scrolled": true
   },
   "outputs": [
    {
     "data": {
      "text/html": [
       "<div>\n",
       "<style scoped>\n",
       "    .dataframe tbody tr th:only-of-type {\n",
       "        vertical-align: middle;\n",
       "    }\n",
       "\n",
       "    .dataframe tbody tr th {\n",
       "        vertical-align: top;\n",
       "    }\n",
       "\n",
       "    .dataframe thead th {\n",
       "        text-align: right;\n",
       "    }\n",
       "</style>\n",
       "<table border=\"1\" class=\"dataframe\">\n",
       "  <thead>\n",
       "    <tr style=\"text-align: right;\">\n",
       "      <th></th>\n",
       "      <th>Index</th>\n",
       "      <th>Accident_Severity</th>\n",
       "      <th>Accident Date</th>\n",
       "      <th>Latitude</th>\n",
       "      <th>Light_Conditions</th>\n",
       "      <th>District Area</th>\n",
       "      <th>Longitude</th>\n",
       "      <th>Number_of_Casualties</th>\n",
       "      <th>Number_of_Vehicles</th>\n",
       "      <th>Road_Surface_Conditions</th>\n",
       "      <th>Road_Type</th>\n",
       "      <th>Urban_or_Rural_Area</th>\n",
       "      <th>Weather_Conditions</th>\n",
       "      <th>Vehicle_Type</th>\n",
       "    </tr>\n",
       "  </thead>\n",
       "  <tbody>\n",
       "    <tr>\n",
       "      <th>0</th>\n",
       "      <td>200701BS64157</td>\n",
       "      <td>Serious</td>\n",
       "      <td>05/06/2019</td>\n",
       "      <td>51.506187</td>\n",
       "      <td>Darkness - lights lit</td>\n",
       "      <td>Kensington and Chelsea</td>\n",
       "      <td>-0.209082</td>\n",
       "      <td>1</td>\n",
       "      <td>2</td>\n",
       "      <td>Dry</td>\n",
       "      <td>Single carriageway</td>\n",
       "      <td>Urban</td>\n",
       "      <td>Fine no high winds</td>\n",
       "      <td>Car</td>\n",
       "    </tr>\n",
       "    <tr>\n",
       "      <th>1</th>\n",
       "      <td>200701BS65737</td>\n",
       "      <td>Serious</td>\n",
       "      <td>02/07/2019</td>\n",
       "      <td>51.495029</td>\n",
       "      <td>Daylight</td>\n",
       "      <td>Kensington and Chelsea</td>\n",
       "      <td>-0.173647</td>\n",
       "      <td>1</td>\n",
       "      <td>2</td>\n",
       "      <td>Wet or damp</td>\n",
       "      <td>Single carriageway</td>\n",
       "      <td>Urban</td>\n",
       "      <td>Raining no high winds</td>\n",
       "      <td>Car</td>\n",
       "    </tr>\n",
       "    <tr>\n",
       "      <th>2</th>\n",
       "      <td>200701BS66127</td>\n",
       "      <td>Serious</td>\n",
       "      <td>26/08/2019</td>\n",
       "      <td>51.517715</td>\n",
       "      <td>Darkness - lighting unknown</td>\n",
       "      <td>Kensington and Chelsea</td>\n",
       "      <td>-0.210215</td>\n",
       "      <td>1</td>\n",
       "      <td>3</td>\n",
       "      <td>Dry</td>\n",
       "      <td>NaN</td>\n",
       "      <td>Urban</td>\n",
       "      <td>NaN</td>\n",
       "      <td>Taxi/Private hire car</td>\n",
       "    </tr>\n",
       "    <tr>\n",
       "      <th>3</th>\n",
       "      <td>200701BS66128</td>\n",
       "      <td>Serious</td>\n",
       "      <td>16/08/2019</td>\n",
       "      <td>51.495478</td>\n",
       "      <td>Daylight</td>\n",
       "      <td>Kensington and Chelsea</td>\n",
       "      <td>-0.202731</td>\n",
       "      <td>1</td>\n",
       "      <td>4</td>\n",
       "      <td>Dry</td>\n",
       "      <td>Single carriageway</td>\n",
       "      <td>Urban</td>\n",
       "      <td>Fine no high winds</td>\n",
       "      <td>Bus or coach (17 or more pass seats)</td>\n",
       "    </tr>\n",
       "    <tr>\n",
       "      <th>4</th>\n",
       "      <td>200701BS66837</td>\n",
       "      <td>Slight</td>\n",
       "      <td>03/09/2019</td>\n",
       "      <td>51.488576</td>\n",
       "      <td>Darkness - lights lit</td>\n",
       "      <td>Kensington and Chelsea</td>\n",
       "      <td>-0.192487</td>\n",
       "      <td>1</td>\n",
       "      <td>2</td>\n",
       "      <td>Dry</td>\n",
       "      <td>NaN</td>\n",
       "      <td>Urban</td>\n",
       "      <td>NaN</td>\n",
       "      <td>Other vehicle</td>\n",
       "    </tr>\n",
       "    <tr>\n",
       "      <th>...</th>\n",
       "      <td>...</td>\n",
       "      <td>...</td>\n",
       "      <td>...</td>\n",
       "      <td>...</td>\n",
       "      <td>...</td>\n",
       "      <td>...</td>\n",
       "      <td>...</td>\n",
       "      <td>...</td>\n",
       "      <td>...</td>\n",
       "      <td>...</td>\n",
       "      <td>...</td>\n",
       "      <td>...</td>\n",
       "      <td>...</td>\n",
       "      <td>...</td>\n",
       "    </tr>\n",
       "    <tr>\n",
       "      <th>660674</th>\n",
       "      <td>201091NM01760</td>\n",
       "      <td>Slight</td>\n",
       "      <td>18/02/2022</td>\n",
       "      <td>57.374005</td>\n",
       "      <td>Daylight</td>\n",
       "      <td>Highland</td>\n",
       "      <td>-3.467828</td>\n",
       "      <td>2</td>\n",
       "      <td>1</td>\n",
       "      <td>Dry</td>\n",
       "      <td>Single carriageway</td>\n",
       "      <td>Rural</td>\n",
       "      <td>Fine no high winds</td>\n",
       "      <td>Car</td>\n",
       "    </tr>\n",
       "    <tr>\n",
       "      <th>660675</th>\n",
       "      <td>201091NM01881</td>\n",
       "      <td>Slight</td>\n",
       "      <td>21/02/2022</td>\n",
       "      <td>57.232273</td>\n",
       "      <td>Darkness - no lighting</td>\n",
       "      <td>Highland</td>\n",
       "      <td>-3.809281</td>\n",
       "      <td>1</td>\n",
       "      <td>1</td>\n",
       "      <td>Frost or ice</td>\n",
       "      <td>Single carriageway</td>\n",
       "      <td>Rural</td>\n",
       "      <td>Fine no high winds</td>\n",
       "      <td>Car</td>\n",
       "    </tr>\n",
       "    <tr>\n",
       "      <th>660676</th>\n",
       "      <td>201091NM01935</td>\n",
       "      <td>Slight</td>\n",
       "      <td>23/02/2022</td>\n",
       "      <td>57.585044</td>\n",
       "      <td>Daylight</td>\n",
       "      <td>Highland</td>\n",
       "      <td>-3.862727</td>\n",
       "      <td>1</td>\n",
       "      <td>3</td>\n",
       "      <td>Frost or ice</td>\n",
       "      <td>Single carriageway</td>\n",
       "      <td>Rural</td>\n",
       "      <td>Fine no high winds</td>\n",
       "      <td>Car</td>\n",
       "    </tr>\n",
       "    <tr>\n",
       "      <th>660677</th>\n",
       "      <td>201091NM01964</td>\n",
       "      <td>Serious</td>\n",
       "      <td>23/02/2022</td>\n",
       "      <td>57.214898</td>\n",
       "      <td>Darkness - no lighting</td>\n",
       "      <td>Highland</td>\n",
       "      <td>-3.823997</td>\n",
       "      <td>1</td>\n",
       "      <td>2</td>\n",
       "      <td>Wet or damp</td>\n",
       "      <td>Single carriageway</td>\n",
       "      <td>Rural</td>\n",
       "      <td>Fine no high winds</td>\n",
       "      <td>Motorcycle over 500cc</td>\n",
       "    </tr>\n",
       "    <tr>\n",
       "      <th>660678</th>\n",
       "      <td>201091NM02142</td>\n",
       "      <td>Serious</td>\n",
       "      <td>28/02/2022</td>\n",
       "      <td>57.575210</td>\n",
       "      <td>Daylight</td>\n",
       "      <td>Highland</td>\n",
       "      <td>-3.895673</td>\n",
       "      <td>1</td>\n",
       "      <td>1</td>\n",
       "      <td>Wet or damp</td>\n",
       "      <td>Dual carriageway</td>\n",
       "      <td>Rural</td>\n",
       "      <td>Snowing no high winds</td>\n",
       "      <td>Car</td>\n",
       "    </tr>\n",
       "  </tbody>\n",
       "</table>\n",
       "<p>660679 rows × 14 columns</p>\n",
       "</div>"
      ],
      "text/plain": [
       "                Index Accident_Severity Accident Date   Latitude  \\\n",
       "0       200701BS64157           Serious    05/06/2019  51.506187   \n",
       "1       200701BS65737           Serious    02/07/2019  51.495029   \n",
       "2       200701BS66127           Serious    26/08/2019  51.517715   \n",
       "3       200701BS66128           Serious    16/08/2019  51.495478   \n",
       "4       200701BS66837            Slight    03/09/2019  51.488576   \n",
       "...               ...               ...           ...        ...   \n",
       "660674  201091NM01760            Slight    18/02/2022  57.374005   \n",
       "660675  201091NM01881            Slight    21/02/2022  57.232273   \n",
       "660676  201091NM01935            Slight    23/02/2022  57.585044   \n",
       "660677  201091NM01964           Serious    23/02/2022  57.214898   \n",
       "660678  201091NM02142           Serious    28/02/2022  57.575210   \n",
       "\n",
       "                   Light_Conditions           District Area  Longitude  \\\n",
       "0             Darkness - lights lit  Kensington and Chelsea  -0.209082   \n",
       "1                          Daylight  Kensington and Chelsea  -0.173647   \n",
       "2       Darkness - lighting unknown  Kensington and Chelsea  -0.210215   \n",
       "3                          Daylight  Kensington and Chelsea  -0.202731   \n",
       "4             Darkness - lights lit  Kensington and Chelsea  -0.192487   \n",
       "...                             ...                     ...        ...   \n",
       "660674                     Daylight                Highland  -3.467828   \n",
       "660675       Darkness - no lighting                Highland  -3.809281   \n",
       "660676                     Daylight                Highland  -3.862727   \n",
       "660677       Darkness - no lighting                Highland  -3.823997   \n",
       "660678                     Daylight                Highland  -3.895673   \n",
       "\n",
       "        Number_of_Casualties  Number_of_Vehicles Road_Surface_Conditions  \\\n",
       "0                          1                   2                     Dry   \n",
       "1                          1                   2             Wet or damp   \n",
       "2                          1                   3                     Dry   \n",
       "3                          1                   4                     Dry   \n",
       "4                          1                   2                     Dry   \n",
       "...                      ...                 ...                     ...   \n",
       "660674                     2                   1                     Dry   \n",
       "660675                     1                   1            Frost or ice   \n",
       "660676                     1                   3            Frost or ice   \n",
       "660677                     1                   2             Wet or damp   \n",
       "660678                     1                   1             Wet or damp   \n",
       "\n",
       "                 Road_Type Urban_or_Rural_Area     Weather_Conditions  \\\n",
       "0       Single carriageway               Urban     Fine no high winds   \n",
       "1       Single carriageway               Urban  Raining no high winds   \n",
       "2                      NaN               Urban                    NaN   \n",
       "3       Single carriageway               Urban     Fine no high winds   \n",
       "4                      NaN               Urban                    NaN   \n",
       "...                    ...                 ...                    ...   \n",
       "660674  Single carriageway               Rural     Fine no high winds   \n",
       "660675  Single carriageway               Rural     Fine no high winds   \n",
       "660676  Single carriageway               Rural     Fine no high winds   \n",
       "660677  Single carriageway               Rural     Fine no high winds   \n",
       "660678    Dual carriageway               Rural  Snowing no high winds   \n",
       "\n",
       "                                Vehicle_Type  \n",
       "0                                        Car  \n",
       "1                                        Car  \n",
       "2                      Taxi/Private hire car  \n",
       "3       Bus or coach (17 or more pass seats)  \n",
       "4                              Other vehicle  \n",
       "...                                      ...  \n",
       "660674                                   Car  \n",
       "660675                                   Car  \n",
       "660676                                   Car  \n",
       "660677                 Motorcycle over 500cc  \n",
       "660678                                   Car  \n",
       "\n",
       "[660679 rows x 14 columns]"
      ]
     },
     "execution_count": 3,
     "metadata": {},
     "output_type": "execute_result"
    }
   ],
   "source": [
    "accident"
   ]
  },
  {
   "cell_type": "markdown",
   "id": "13e6e3d2-8f19-46c7-98ef-3bdf438beee0",
   "metadata": {},
   "source": [
    "<h2>Filling Null Values & Filling Missing Values</h2>"
   ]
  },
  {
   "cell_type": "code",
   "execution_count": 4,
   "id": "91067cda-7943-40b3-b40d-c6a5ff73e043",
   "metadata": {
    "scrolled": true
   },
   "outputs": [
    {
     "data": {
      "text/plain": [
       "Index                          0\n",
       "Accident_Severity              0\n",
       "Accident Date                  0\n",
       "Latitude                      25\n",
       "Light_Conditions               0\n",
       "District Area                  0\n",
       "Longitude                     26\n",
       "Number_of_Casualties           0\n",
       "Number_of_Vehicles             0\n",
       "Road_Surface_Conditions      726\n",
       "Road_Type                   4520\n",
       "Urban_or_Rural_Area           15\n",
       "Weather_Conditions         14128\n",
       "Vehicle_Type                   0\n",
       "dtype: int64"
      ]
     },
     "execution_count": 4,
     "metadata": {},
     "output_type": "execute_result"
    }
   ],
   "source": [
    "accident.isnull().sum()"
   ]
  },
  {
   "cell_type": "code",
   "execution_count": 31,
   "id": "5e9cec5b-4cb5-4f4c-b362-87e8359c8eb4",
   "metadata": {},
   "outputs": [],
   "source": [
    "accident['Latitude'] = accident['Latitude'].fillna(accident['Latitude'].mean)\n",
    "accident['Longitude'] = accident['Longitude'].fillna(accident['Longitude'].mean)\n",
    "accident['Road_Surface_Conditions'] = accident['Road_Surface_Conditions'].fillna(accident['Road_Surface_Conditions'].mean)\n",
    "accident['Road_Type'] = accident['Road_Type'].fillna(accident['Road_Type'].mean)\n",
    "accident['Urban_or_Rural_Area'] = accident['Urban_or_Rural_Area'].fillna(accident['Urban_or_Rural_Area'].mean)\n",
    "accident['Weather_Conditions'] = accident['Weather_Conditions'].fillna(accident['Weather_Conditions'].mean)"
   ]
  },
  {
   "cell_type": "code",
   "execution_count": 32,
   "id": "7929c616-c946-4ef0-84e3-5e67f9f30a8a",
   "metadata": {
    "scrolled": true
   },
   "outputs": [
    {
     "data": {
      "text/plain": [
       "Index                      0\n",
       "Accident_Severity          0\n",
       "Accident Date              0\n",
       "Latitude                   0\n",
       "Light_Conditions           0\n",
       "District Area              0\n",
       "Longitude                  0\n",
       "Number_of_Casualties       0\n",
       "Number_of_Vehicles         0\n",
       "Road_Surface_Conditions    0\n",
       "Road_Type                  0\n",
       "Urban_or_Rural_Area        0\n",
       "Weather_Conditions         0\n",
       "Vehicle_Type               0\n",
       "dtype: int64"
      ]
     },
     "execution_count": 32,
     "metadata": {},
     "output_type": "execute_result"
    }
   ],
   "source": [
    "accident.isnull().sum()"
   ]
  },
  {
   "cell_type": "code",
   "execution_count": 33,
   "id": "aadba45c-b051-41f6-b46c-4c6f8e8520aa",
   "metadata": {},
   "outputs": [],
   "source": [
    "accident['Accident Date'] = accident['Accident Date'].str.strip()\n",
    "accident['Accident Date'] = accident['Accident Date'].astype('str')\n",
    "accident['Accident Date'] = accident['Accident Date'].str.replace('/', '-')"
   ]
  },
  {
   "cell_type": "code",
   "execution_count": 35,
   "id": "6bf5d8cb-d99f-45be-92c7-58ba35147a2f",
   "metadata": {},
   "outputs": [],
   "source": [
    "accident['Accident Date'] = pd.to_datetime(accident['Accident Date'], dayfirst = True, errors = 'coerce')"
   ]
  },
  {
   "cell_type": "markdown",
   "id": "bc97f16c-2996-4532-8fbe-905d9ca9d6c7",
   "metadata": {},
   "source": [
    "<h2>Adjusting Data Types</h2>"
   ]
  },
  {
   "cell_type": "code",
   "execution_count": 96,
   "id": "eaeafc55-708b-431d-a3bf-5cd9d438d19a",
   "metadata": {},
   "outputs": [],
   "source": [
    "accident['Index'] = accident['Index'].astype('category')\n",
    "accident['Accident_Severity'] = accident['Accident_Severity'].astype('category')\n",
    "accident['Accident Date'] = pd.to_datetime(accident['Accident Date'], dayfirst = True, errors='coerce')\n",
    "accident['Latitude'] = accident['Latitude'].astype('float')\n",
    "accident['Light_Conditions'] = accident['Light_Conditions'].astype('category')\n",
    "accident['District Area'] = accident['District Area'].astype('category')\n",
    "accident['Longitude'] = accident['Longitude'].astype('float')\n",
    "accident['Number_of_Casualties'] = accident['Number_of_Casualties'].astype('int')\n",
    "accident['Number_of_Vehicles'] = accident['Number_of_Vehicles'].astype('int')\n",
    "accident['Road_Surface_Conditions'] = accident['Road_Surface_Conditions'].astype('category')\n",
    "accident['Road_Type'] = accident['Road_Type'].astype('category')\n",
    "accident['Urban_or_Rural_Area'] = accident['Urban_or_Rural_Area'].astype('category')\n",
    "accident['Weather_Conditions'] = accident['Weather_Conditions'].astype('category')\n",
    "accident['Vehicle_Type'] = accident['Vehicle_Type'].astype('category')"
   ]
  },
  {
   "cell_type": "code",
   "execution_count": 98,
   "id": "1cf7aa50-6ac2-418d-9a2d-76f172b48def",
   "metadata": {
    "scrolled": true
   },
   "outputs": [
    {
     "data": {
      "text/plain": [
       "Index                            category\n",
       "Accident_Severity                category\n",
       "Accident Date              datetime64[ns]\n",
       "Latitude                          float64\n",
       "Light_Conditions                 category\n",
       "District Area                    category\n",
       "Longitude                         float64\n",
       "Number_of_Casualties                int64\n",
       "Number_of_Vehicles                  int64\n",
       "Road_Surface_Conditions          category\n",
       "Road_Type                        category\n",
       "Urban_or_Rural_Area              category\n",
       "Weather_Conditions               category\n",
       "Vehicle_Type                     category\n",
       "Year                                int32\n",
       "Month                               int32\n",
       "Day                                 int32\n",
       "DayOfWeek                           int32\n",
       "dtype: object"
      ]
     },
     "execution_count": 98,
     "metadata": {},
     "output_type": "execute_result"
    }
   ],
   "source": [
    "accident.dtypes"
   ]
  },
  {
   "cell_type": "code",
   "execution_count": 38,
   "id": "a5d2915a-ebb2-4efa-9a6a-4ed4cf046309",
   "metadata": {},
   "outputs": [],
   "source": [
    "accident['Accident Date'] = accident['Accident Date'].fillna(accident['Accident Date'].mean())\n",
    "accident['Year'] = accident['Year'].fillna(accident['Year'].mean())\n",
    "accident['Month'] = accident['Month'].fillna(accident['Month'].mean())\n",
    "accident['Day'] = accident['Day'].fillna(accident['Day'].mean())\n",
    "accident['DayOfWeek'] = accident['DayOfWeek'].fillna(accident['DayOfWeek'].mean())"
   ]
  },
  {
   "cell_type": "code",
   "execution_count": 39,
   "id": "4232074d-3e55-4489-968e-d00567d6703b",
   "metadata": {
    "scrolled": true
   },
   "outputs": [
    {
     "data": {
      "text/plain": [
       "Index                      0\n",
       "Accident_Severity          0\n",
       "Accident Date              0\n",
       "Latitude                   0\n",
       "Light_Conditions           0\n",
       "District Area              0\n",
       "Longitude                  0\n",
       "Number_of_Casualties       0\n",
       "Number_of_Vehicles         0\n",
       "Road_Surface_Conditions    0\n",
       "Road_Type                  0\n",
       "Urban_or_Rural_Area        0\n",
       "Weather_Conditions         0\n",
       "Vehicle_Type               0\n",
       "Year                       0\n",
       "Month                      0\n",
       "Day                        0\n",
       "DayOfWeek                  0\n",
       "dtype: int64"
      ]
     },
     "execution_count": 39,
     "metadata": {},
     "output_type": "execute_result"
    }
   ],
   "source": [
    "accident.isnull().sum()"
   ]
  },
  {
   "cell_type": "markdown",
   "id": "ea31f786-b8ff-47c6-8ed5-83bcb2d51177",
   "metadata": {},
   "source": [
    "<h2>Extracting Date Information using Pandas Date Time</h3>"
   ]
  },
  {
   "cell_type": "code",
   "execution_count": 105,
   "id": "b4106906-8bab-4881-b58a-fbdeae176d98",
   "metadata": {},
   "outputs": [],
   "source": [
    "accident['Year'] = accident['Accident Date'].dt.year\n",
    "accident['Month'] = accident['Accident Date'].dt.month\n",
    "accident['Day'] = accident['Accident Date'].dt.day\n",
    "accident['DayOfWeek'] = accident['Accident Date'].dt.dayofweek #moday=0, sunday=6"
   ]
  },
  {
   "cell_type": "code",
   "execution_count": 106,
   "id": "93afa2e3-ac12-4ffd-9beb-42e53700b430",
   "metadata": {},
   "outputs": [
    {
     "data": {
      "text/html": [
       "<div>\n",
       "<style scoped>\n",
       "    .dataframe tbody tr th:only-of-type {\n",
       "        vertical-align: middle;\n",
       "    }\n",
       "\n",
       "    .dataframe tbody tr th {\n",
       "        vertical-align: top;\n",
       "    }\n",
       "\n",
       "    .dataframe thead th {\n",
       "        text-align: right;\n",
       "    }\n",
       "</style>\n",
       "<table border=\"1\" class=\"dataframe\">\n",
       "  <thead>\n",
       "    <tr style=\"text-align: right;\">\n",
       "      <th></th>\n",
       "      <th>Year</th>\n",
       "      <th>Month</th>\n",
       "      <th>Day</th>\n",
       "      <th>DayOfWeek</th>\n",
       "    </tr>\n",
       "  </thead>\n",
       "  <tbody>\n",
       "    <tr>\n",
       "      <th>0</th>\n",
       "      <td>2019</td>\n",
       "      <td>6</td>\n",
       "      <td>5</td>\n",
       "      <td>2</td>\n",
       "    </tr>\n",
       "    <tr>\n",
       "      <th>1</th>\n",
       "      <td>2019</td>\n",
       "      <td>7</td>\n",
       "      <td>2</td>\n",
       "      <td>1</td>\n",
       "    </tr>\n",
       "    <tr>\n",
       "      <th>2</th>\n",
       "      <td>2019</td>\n",
       "      <td>8</td>\n",
       "      <td>26</td>\n",
       "      <td>0</td>\n",
       "    </tr>\n",
       "    <tr>\n",
       "      <th>3</th>\n",
       "      <td>2019</td>\n",
       "      <td>8</td>\n",
       "      <td>16</td>\n",
       "      <td>4</td>\n",
       "    </tr>\n",
       "    <tr>\n",
       "      <th>4</th>\n",
       "      <td>2019</td>\n",
       "      <td>9</td>\n",
       "      <td>3</td>\n",
       "      <td>1</td>\n",
       "    </tr>\n",
       "  </tbody>\n",
       "</table>\n",
       "</div>"
      ],
      "text/plain": [
       "   Year  Month  Day  DayOfWeek\n",
       "0  2019      6    5          2\n",
       "1  2019      7    2          1\n",
       "2  2019      8   26          0\n",
       "3  2019      8   16          4\n",
       "4  2019      9    3          1"
      ]
     },
     "execution_count": 106,
     "metadata": {},
     "output_type": "execute_result"
    }
   ],
   "source": [
    "accident[['Year', 'Month', 'Day', 'DayOfWeek']].head()"
   ]
  },
  {
   "cell_type": "markdown",
   "id": "b8d4ca04-576b-4cf0-8650-a06fa0bebda6",
   "metadata": {},
   "source": [
    "<h2>Data Analytics</h2>\n",
    "<h3>UniVariate</h3>\n",
    "<h4>Summary of Accidents in 2019</h4>\n",
    "<h4>Light Conditions</h4>\n",
    "<hr>"
   ]
  },
  {
   "cell_type": "markdown",
   "id": "8b586a6c-c5cc-4908-9794-78f31ee88de8",
   "metadata": {},
   "source": [
    "<h2>Univariate Analysis on Accident that happened in 2019</h2>"
   ]
  },
  {
   "cell_type": "code",
   "execution_count": 44,
   "id": "7a770bb1-5d8b-4e2c-aa68-999e1779f4da",
   "metadata": {},
   "outputs": [],
   "source": [
    "df_2019 = accident[accident['Year'] == 2019]"
   ]
  },
  {
   "cell_type": "code",
   "execution_count": 45,
   "id": "43d332d2-9261-4296-9f98-839db0ae377a",
   "metadata": {},
   "outputs": [
    {
     "name": "stdout",
     "output_type": "stream",
     "text": [
      "total number of accident in 2019 is 182115\n"
     ]
    },
    {
     "data": {
      "text/plain": [
       "Light_Conditions\n",
       "Daylight                       133042\n",
       "Darkness - lights lit           35769\n",
       "Darkness - no lighting          10842\n",
       "Darkness - lighting unknown      1768\n",
       "Darkness - lights unlit           694\n",
       "Name: count, dtype: int64"
      ]
     },
     "execution_count": 45,
     "metadata": {},
     "output_type": "execute_result"
    }
   ],
   "source": [
    "print(f\"total number of accident in 2019 is {df_2019['Light_Conditions'].value_counts().sum()}\")\n",
    "df_2019['Light_Conditions'].value_counts()"
   ]
  },
  {
   "cell_type": "markdown",
   "id": "c4b45c82-e65c-4f6f-bdb2-0208e5a4c61d",
   "metadata": {},
   "source": [
    "<h1>Data Analysis</h1>\n",
    "<hr>"
   ]
  },
  {
   "cell_type": "markdown",
   "id": "449f0cd2-2e21-4696-a1cf-b6b222342ed1",
   "metadata": {},
   "source": [
    "<h1>Q1. What is the total number of casualties for each accident severity?</h1>"
   ]
  },
  {
   "cell_type": "code",
   "execution_count": 46,
   "id": "3af45bd1-ec95-48ac-bed8-100d025198e5",
   "metadata": {
    "scrolled": true
   },
   "outputs": [
    {
     "data": {
      "text/plain": [
       "Accident_Severity\n",
       "Fatal       16483\n",
       "Serious    129439\n",
       "Slight     750646\n",
       "Name: Number_of_Casualties, dtype: int64"
      ]
     },
     "execution_count": 46,
     "metadata": {},
     "output_type": "execute_result"
    }
   ],
   "source": [
    "accident.groupby(\"Accident_Severity\")[\"Number_of_Casualties\"].sum()"
   ]
  },
  {
   "cell_type": "markdown",
   "id": "1e09b2f4-ba26-435f-8a96-7e94cb4d8350",
   "metadata": {
    "jp-MarkdownHeadingCollapsed": true
   },
   "source": [
    "<h3>INSIGHT 1:</h3>\n",
    "<h3>It shows that there were 16,483 fatal accidents, 12,9439 serious accidents, and 750,646 minor accidents.</h3>"
   ]
  },
  {
   "cell_type": "markdown",
   "id": "f3d74fb5-982d-423e-92f3-524469a2c300",
   "metadata": {},
   "source": [
    "<h3>INSIGHT 2:</h3>\n",
    "<h3>This shows that slight accidents have the highest number of casualties.</h3>"
   ]
  },
  {
   "cell_type": "markdown",
   "id": "63883b46-f5c7-4ad9-b6b5-84e62a9d5adb",
   "metadata": {},
   "source": [
    "<h1>Q2. What is the maximum number of casualties in each accident severity category?</h1>"
   ]
  },
  {
   "cell_type": "code",
   "execution_count": 8,
   "id": "9b3fc48c-51a5-4a0e-887d-b53a76ec2663",
   "metadata": {
    "scrolled": true
   },
   "outputs": [
    {
     "data": {
      "text/plain": [
       "Accident_Severity\n",
       "Fatal      68\n",
       "Serious    45\n",
       "Slight     47\n",
       "Name: Number_of_Casualties, dtype: int64"
      ]
     },
     "execution_count": 8,
     "metadata": {},
     "output_type": "execute_result"
    }
   ],
   "source": [
    "accident.groupby(\"Accident_Severity\")[\"Number_of_Casualties\"].max()"
   ]
  },
  {
   "cell_type": "markdown",
   "id": "5c16f08a-d9c9-472b-ada0-8b889b03dfe3",
   "metadata": {},
   "source": [
    "<h3>INSIGHT 1:</h3>\n",
    "<h3>This shows that there were 68 fatal, 45 serious condition, and 47 in slight condition.</h3>"
   ]
  },
  {
   "cell_type": "markdown",
   "id": "b2c00bd3-9f8a-4f02-802b-47590ac6d24a",
   "metadata": {},
   "source": [
    "<h3>INSIGHT 2:</h3>\n",
    "<h3>Fatal accidents show the maximum casualties per accident.</h3>"
   ]
  },
  {
   "cell_type": "markdown",
   "id": "e241942f-0e91-48cb-89fa-a6b6daaa8215",
   "metadata": {},
   "source": [
    "<h1>Q3. What are the types of vehicles involved in accidents?</h1>"
   ]
  },
  {
   "cell_type": "code",
   "execution_count": 116,
   "id": "21e0169b-7ce0-474a-9847-335f84e7d38e",
   "metadata": {
    "scrolled": true
   },
   "outputs": [
    {
     "data": {
      "text/plain": [
       "Vehicle_Type\n",
       "Car                                      497992\n",
       "Van / Goods 3.5 tonnes mgw or under       34160\n",
       "Bus or coach (17 or more pass seats)      25878\n",
       "Motorcycle over 500cc                     25657\n",
       "Goods 7.5 tonnes mgw and over             17307\n",
       "Motorcycle 125cc and under                15269\n",
       "Taxi/Private hire car                     13294\n",
       "Motorcycle over 125cc and up to 500cc      7656\n",
       "Motorcycle 50cc and under                  7603\n",
       "Goods over 3.5t. and under 7.5t            6096\n",
       "Other vehicle                              5637\n",
       "Minibus (8 - 16 passenger seats)           1976\n",
       "Agricultural vehicle                       1947\n",
       "Pedal cycle                                 197\n",
       "Data missing or out of range                  6\n",
       "Ridden horse                                  4\n",
       "Name: count, dtype: int64"
      ]
     },
     "execution_count": 116,
     "metadata": {},
     "output_type": "execute_result"
    }
   ],
   "source": [
    "accident['Vehicle_Type'].value_counts()"
   ]
  },
  {
   "cell_type": "markdown",
   "id": "9a496724-60ea-4cd8-b1cd-46825ff456be",
   "metadata": {},
   "source": [
    "<h3>INSIGHT 1:</h3>\n",
    "<h3>The result above shows the vehicles involved in accidents.</h3>"
   ]
  },
  {
   "cell_type": "markdown",
   "id": "8d0efa45-e35c-43f2-a473-a3cb2505c211",
   "metadata": {},
   "source": [
    "<h3>INSIGHT 2:</h3>\n",
    "<h3>The car is the vehicle that has the most record involved in accidents.</h3>"
   ]
  },
  {
   "cell_type": "markdown",
   "id": "3ed41dc7-2a37-40e6-8a42-b2ccf78bbe8a",
   "metadata": {},
   "source": [
    "<h1>Q4. How many accidents happened in each Urban_or_Rural_Area?</</h1>"
   ]
  },
  {
   "cell_type": "code",
   "execution_count": 10,
   "id": "cf3cb78b-9865-480e-b975-e9cfd46f9399",
   "metadata": {},
   "outputs": [
    {
     "data": {
      "text/plain": [
       "Urban_or_Rural_Area\n",
       "Urban          421678\n",
       "Rural          238990\n",
       "Unallocated        11\n",
       "Name: count, dtype: int64"
      ]
     },
     "execution_count": 10,
     "metadata": {},
     "output_type": "execute_result"
    }
   ],
   "source": [
    "accident[\"Urban_or_Rural_Area\"].value_counts()"
   ]
  },
  {
   "cell_type": "markdown",
   "id": "df0b3ffd-eab4-4f05-99d3-f3f2bc36f8cd",
   "metadata": {},
   "source": [
    "<h3>INSIGHT 1:</h3>\n",
    "<h3>It shows that there were 421,678 vehicle accidents in urban areas, there are 238,990 vehicle accident in rural areas, and there are 11 accidents in unlocated areas.</h3>"
   ]
  },
  {
   "cell_type": "markdown",
   "id": "a7b0de16-2078-4b4e-8505-4a6ed0950b21",
   "metadata": {},
   "source": [
    "<h3>INSIGHT 2:</h3>\n",
    "<h3>Districts with high population density record more vehicles involved in accidents.</h3>"
   ]
  },
  {
   "cell_type": "markdown",
   "id": "9ef15e81-34e8-44d2-b512-a943acde66b3",
   "metadata": {},
   "source": [
    "<h3>INSIGHT 3:</h3>\n",
    "<h3>Urban areas often record more accidents than Rural areas.</h3>"
   ]
  },
  {
   "cell_type": "markdown",
   "id": "a294e04f-d95f-49ba-b457-c1d5376f61e9",
   "metadata": {},
   "source": [
    "<h1>Q5. What is the total number of casualties in urban vs rural areas?</h1>"
   ]
  },
  {
   "cell_type": "code",
   "execution_count": 11,
   "id": "611aaf51-8883-422d-b8d0-aa0d09397d36",
   "metadata": {
    "scrolled": true
   },
   "outputs": [
    {
     "data": {
      "text/plain": [
       "Urban_or_Rural_Area\n",
       "Rural          353515\n",
       "Unallocated        13\n",
       "Urban          543040\n",
       "Name: Number_of_Casualties, dtype: int64"
      ]
     },
     "execution_count": 11,
     "metadata": {},
     "output_type": "execute_result"
    }
   ],
   "source": [
    "accident.groupby(\"Urban_or_Rural_Area\")[\"Number_of_Casualties\"].sum()"
   ]
  },
  {
   "cell_type": "markdown",
   "id": "c25bf043-176c-4f24-84a5-5b11c5cef97a",
   "metadata": {},
   "source": [
    "<h3>INSIGHT 1:</h3>\n",
    "<h3>The total number of casualties in rural areas is 353,515, in unlocated areas is 13, and there are 543,040 casualties in urban areas.</h3>"
   ]
  },
  {
   "cell_type": "markdown",
   "id": "ed9ec0ae-3320-4503-ae50-30c9963f4b73",
   "metadata": {
    "jp-MarkdownHeadingCollapsed": true
   },
   "source": [
    "<h3>INSIGHT 2:</h3>\n",
    "<h3>This shows that urban areas report more accidents than rural area.</h3>"
   ]
  },
  {
   "cell_type": "markdown",
   "id": "9b460546-ca24-4894-a8e7-5759239db925",
   "metadata": {},
   "source": [
    "<h1>Q6. How many accidents happened in each Road_Type?</h1>"
   ]
  },
  {
   "cell_type": "code",
   "execution_count": 12,
   "id": "cdc12e48-d5e5-4908-9490-97d9328ff58b",
   "metadata": {
    "scrolled": true
   },
   "outputs": [
    {
     "data": {
      "text/plain": [
       "Road_Type\n",
       "Single carriageway    496663\n",
       "Dual carriageway       99424\n",
       "Roundabout             43992\n",
       "One way street         13559\n",
       "Slip road               7041\n",
       "Name: count, dtype: int64"
      ]
     },
     "execution_count": 12,
     "metadata": {},
     "output_type": "execute_result"
    }
   ],
   "source": [
    "accident[\"Road_Type\"].value_counts()"
   ]
  },
  {
   "cell_type": "markdown",
   "id": "21344ac3-a7bf-4a88-8122-bb5a007526fe",
   "metadata": {
    "jp-MarkdownHeadingCollapsed": true
   },
   "source": [
    "<h3>INSIGHT 1:</h3>\n",
    "<h3>There are 496663 accidents on 'Single Carriageways', 99424 accidents on 'Dual Carriageways', 43992 accidents on 'Roundabouts', 13559 accidents on 'One-way streets', and 7041 accidents on 'Slip roads'.</h3>"
   ]
  },
  {
   "cell_type": "markdown",
   "id": "10f6c2d4-ec61-4bcf-b409-8e49ca3c078d",
   "metadata": {},
   "source": [
    "<h3>INSIGHT 2:</h3>\n",
    "<h3>This shows that 'Single Carriageways dominate accidents by road types.</h3>"
   ]
  },
  {
   "cell_type": "markdown",
   "id": "fe5d8e81-1715-40f5-a924-44bfea822023",
   "metadata": {},
   "source": [
    "<h1>Q7. Which weather condition is most common in accidents?</h1>"
   ]
  },
  {
   "cell_type": "code",
   "execution_count": 111,
   "id": "af3d569d-f5f5-40f4-ae94-fca941c55e50",
   "metadata": {
    "scrolled": true
   },
   "outputs": [
    {
     "data": {
      "text/plain": [
       "Weather_Conditions\n",
       "Fine no high winds       535013\n",
       "Raining no high winds     79696\n",
       "Other                     17150\n",
       "Raining + high winds       9615\n",
       "Fine + high winds          8554\n",
       "Snowing no high winds      6238\n",
       "Fog or mist                3528\n",
       "Snowing + high winds        885\n",
       "Name: count, dtype: int64"
      ]
     },
     "execution_count": 111,
     "metadata": {},
     "output_type": "execute_result"
    }
   ],
   "source": [
    "accident[\"Weather_Conditions\"].value_counts()"
   ]
  },
  {
   "cell_type": "markdown",
   "id": "e449f1c8-1c42-4f77-9d4e-df54a706d13d",
   "metadata": {},
   "source": [
    "<h3>INSIGHT:</h3>\n",
    "<h3>The result above shows that 'Fine no high winds' is the most common condition in accidents.</h3>"
   ]
  },
  {
   "cell_type": "markdown",
   "id": "eb95adb4-6ac6-40f1-aa8e-d731106b2e0e",
   "metadata": {},
   "source": [
    "<h1>Q8. How manny serious accident are there in urban and rural area?</h1>"
   ]
  },
  {
   "cell_type": "code",
   "execution_count": 14,
   "id": "86452bd7-2b55-4957-911f-e9c239f7a24b",
   "metadata": {
    "scrolled": true
   },
   "outputs": [
    {
     "data": {
      "text/plain": [
       "Urban_or_Rural_Area\n",
       "Urban          50904\n",
       "Rural          37312\n",
       "Unallocated        1\n",
       "Name: count, dtype: int64"
      ]
     },
     "execution_count": 14,
     "metadata": {},
     "output_type": "execute_result"
    }
   ],
   "source": [
    "accident[accident[\"Accident_Severity\"] == \"Serious\"][\"Urban_or_Rural_Area\"].value_counts()"
   ]
  },
  {
   "cell_type": "markdown",
   "id": "b51847f2-f54e-43b5-9c7f-c27bb6cf1e62",
   "metadata": {},
   "source": [
    "<h3>INSIGHT 1:</h3>\n",
    "<h3>Thsere are 50,904 seious condition in urban areas, in rural areas there are 37,312 serious accident, and only 1 serious accident happened in an unllocated area.</h3>"
   ]
  },
  {
   "cell_type": "markdown",
   "id": "676164dc-e2d3-4fbd-8c96-90fd263ca285",
   "metadata": {},
   "source": [
    "<h3>INSIGHT 2:</h3>\n",
    "<h3>This shows that Urban areas has more serious accident than rural(and unllocated area).</h3>\n"
   ]
  },
  {
   "cell_type": "markdown",
   "id": "43efbab0-c102-47c4-bb30-a2f6e30c75eb",
   "metadata": {},
   "source": [
    "<h1>Q9. How many accidents of each severity happened under each light condition?</h1>"
   ]
  },
  {
   "cell_type": "code",
   "execution_count": 15,
   "id": "e53f306c-8b7f-4038-95f9-3ca21b46b062",
   "metadata": {
    "scrolled": true
   },
   "outputs": [
    {
     "data": {
      "text/plain": [
       "Light_Conditions             Accident_Severity\n",
       "Darkness - lighting unknown  Slight                 5622\n",
       "                             Serious                 794\n",
       "                             Fatal                    68\n",
       "Darkness - lights lit        Slight               108345\n",
       "                             Serious               19130\n",
       "                             Fatal                  1860\n",
       "Darkness - lights unlit      Slight                 2138\n",
       "                             Serious                 360\n",
       "                             Fatal                    45\n",
       "Darkness - no lighting       Slight                28651\n",
       "                             Serious                7174\n",
       "                             Fatal                  1612\n",
       "Daylight                     Slight               419045\n",
       "                             Serious               60759\n",
       "                             Fatal                  5076\n",
       "Name: count, dtype: int64"
      ]
     },
     "execution_count": 15,
     "metadata": {},
     "output_type": "execute_result"
    }
   ],
   "source": [
    "accident.groupby(\"Light_Conditions\")[\"Accident_Severity\"].value_counts()"
   ]
  },
  {
   "cell_type": "markdown",
   "id": "89835fda-b12f-4cc8-8164-233191826b49",
   "metadata": {},
   "source": [
    "<h3>INSIGHT 1:</h3>\n",
    "<h3>Daylight condition have the highest number of accidents across all severity.</h3>"
   ]
  },
  {
   "cell_type": "markdown",
   "id": "a3972737-f62a-4c92-a24d-4165539b0b89",
   "metadata": {},
   "source": [
    "<h1>Q10. What is the maximum number of casualties in urban_or_rural areas?</h1>"
   ]
  },
  {
   "cell_type": "code",
   "execution_count": 114,
   "id": "97b2d8db-1a9f-47f8-b688-2b616c686685",
   "metadata": {},
   "outputs": [
    {
     "data": {
      "text/plain": [
       "Urban_or_Rural_Area\n",
       "Rural          68\n",
       "Unallocated     3\n",
       "Urban          32\n",
       "Name: Number_of_Casualties, dtype: int64"
      ]
     },
     "execution_count": 114,
     "metadata": {},
     "output_type": "execute_result"
    }
   ],
   "source": [
    "accident.groupby('Urban_or_Rural_Area')['Number_of_Casualties'].max()"
   ]
  },
  {
   "cell_type": "markdown",
   "id": "a63f9dea-36af-4b1d-aeb7-e818b44ef82a",
   "metadata": {},
   "source": [
    "<h3>INSIGHT 1:</h3>\n",
    "<h3>The maximum number of casualties in Rural is 68, in Unllocated area is 3, and in Urban is 32.</h3>"
   ]
  },
  {
   "cell_type": "markdown",
   "id": "aa02d440-d243-4ce6-af67-3989900720da",
   "metadata": {},
   "source": [
    "<h3>INSIGHT 2:</h3>\n",
    "<h3>This shows that Rural has the highest maximum number of casualties in all of the area.</h3>"
   ]
  },
  {
   "cell_type": "markdown",
   "id": "347f8c0d-7e50-4a72-8a84-93f7c771cab3",
   "metadata": {},
   "source": [
    "<h1>Q11. How many fatal accidents are there in Sheffield?</h1>"
   ]
  },
  {
   "cell_type": "code",
   "execution_count": 19,
   "id": "37336e9e-0b1f-4453-a4e8-280f7509d9b6",
   "metadata": {
    "scrolled": true
   },
   "outputs": [
    {
     "data": {
      "text/plain": [
       "District Area\n",
       "Sheffield    38\n",
       "Name: count, dtype: int64"
      ]
     },
     "execution_count": 19,
     "metadata": {},
     "output_type": "execute_result"
    }
   ],
   "source": [
    "accident[(accident[\"Accident_Severity\"] == \"Fatal\") & (accident[\"District Area\"] == \"Sheffield\")][\"District Area\"].value_counts()"
   ]
  },
  {
   "cell_type": "markdown",
   "id": "434bb792-d5c9-465f-b450-f7e4afbf256c",
   "metadata": {},
   "source": [
    "<h3>INSIGHT:</h3>\n",
    "<h3>There are 38 number of fatal accident that happened in Sheffield.</h3>"
   ]
  },
  {
   "cell_type": "markdown",
   "id": "6df9bb74-4b13-4f5a-9f02-e2eb2af565fe",
   "metadata": {},
   "source": [
    "<h1>Q12. Which vehicle type is most often involved in accidents?</h1>"
   ]
  },
  {
   "cell_type": "code",
   "execution_count": 20,
   "id": "0d7e2194-b058-40fe-a150-697e433487e1",
   "metadata": {
    "scrolled": true
   },
   "outputs": [
    {
     "data": {
      "text/plain": [
       "Vehicle_Type\n",
       "Car                                      497992\n",
       "Van / Goods 3.5 tonnes mgw or under       34160\n",
       "Bus or coach (17 or more pass seats)      25878\n",
       "Motorcycle over 500cc                     25657\n",
       "Goods 7.5 tonnes mgw and over             17307\n",
       "Motorcycle 125cc and under                15269\n",
       "Taxi/Private hire car                     13294\n",
       "Motorcycle over 125cc and up to 500cc      7656\n",
       "Motorcycle 50cc and under                  7603\n",
       "Goods over 3.5t. and under 7.5t            6096\n",
       "Other vehicle                              5637\n",
       "Minibus (8 - 16 passenger seats)           1976\n",
       "Agricultural vehicle                       1947\n",
       "Pedal cycle                                 197\n",
       "Data missing or out of range                  6\n",
       "Ridden horse                                  4\n",
       "Name: count, dtype: int64"
      ]
     },
     "execution_count": 20,
     "metadata": {},
     "output_type": "execute_result"
    }
   ],
   "source": [
    "accident[\"Vehicle_Type\"].value_counts()"
   ]
  },
  {
   "cell_type": "markdown",
   "id": "2c6338e1-254b-422d-a7f8-83cebe34854b",
   "metadata": {},
   "source": [
    "<h3>INSIGHT 1:</h3>\n",
    "<h3>According to the result, car is the most often involved in accidents.</h3>"
   ]
  },
  {
   "cell_type": "markdown",
   "id": "f5337b40-39c1-43b2-a77d-d6dc0f5b4cfe",
   "metadata": {},
   "source": [
    "<h3>INSIGHT 2:</h3>\n",
    "<h3>THere are 16 vehicles in the list that are involved in accident, but car has the most number of involved in accident.</h3>"
   ]
  },
  {
   "cell_type": "markdown",
   "id": "5a63b033-011e-47b6-994c-ee724dbd970f",
   "metadata": {},
   "source": [
    "<h1>Q13. What is the maximum and minimum number of vehicles involved by severity?</h1>"
   ]
  },
  {
   "cell_type": "code",
   "execution_count": 119,
   "id": "47c83c55-2d6d-4284-94b5-eaac4289398f",
   "metadata": {},
   "outputs": [
    {
     "data": {
      "text/plain": [
       "Accident_Severity\n",
       "Fatal      28\n",
       "Serious    19\n",
       "Slight     32\n",
       "Name: Number_of_Vehicles, dtype: int64"
      ]
     },
     "execution_count": 119,
     "metadata": {},
     "output_type": "execute_result"
    }
   ],
   "source": [
    "accident.groupby('Accident_Severity')['Number_of_Vehicles'].max()"
   ]
  },
  {
   "cell_type": "markdown",
   "id": "57d088b4-ca37-458d-8ab9-251abbec0298",
   "metadata": {},
   "source": [
    "<h3>INSIGHT 1:</h3>\n",
    "<h3>There are 28 vehicles involved in fatal, 19 vehicles involved in serious, snd there are 32 vehicles that are involved in slight condition.</h3>"
   ]
  },
  {
   "cell_type": "markdown",
   "id": "f5aea4b1-2a8d-433b-bd17-e0dfc7f6f648",
   "metadata": {},
   "source": [
    "<h3>INSIGHT 2:</h3>\n",
    "<h3>There are 32(maximum number) vehicles that are involved in slight severity.</h3>"
   ]
  },
  {
   "cell_type": "markdown",
   "id": "59b7fa7b-9a4d-40cf-989f-35e75913e436",
   "metadata": {},
   "source": [
    "<h3>INSIGHT 3:</h3>\n",
    "<h3>There are 19(minimum number) vehicles that are involved in serious severity.</h3>"
   ]
  },
  {
   "cell_type": "markdown",
   "id": "51c0bb08-2975-4246-aee4-a460872e688e",
   "metadata": {},
   "source": [
    "<h1>Q14. Which light condition has the most fatal accidents?</h1>"
   ]
  },
  {
   "cell_type": "code",
   "execution_count": 22,
   "id": "8c540caf-49f4-4762-afae-9346e780ad49",
   "metadata": {
    "scrolled": true
   },
   "outputs": [
    {
     "data": {
      "text/plain": [
       "Light_Conditions\n",
       "Daylight                       5076\n",
       "Darkness - lights lit          1860\n",
       "Darkness - no lighting         1612\n",
       "Darkness - lighting unknown      68\n",
       "Darkness - lights unlit          45\n",
       "Name: count, dtype: int64"
      ]
     },
     "execution_count": 22,
     "metadata": {},
     "output_type": "execute_result"
    }
   ],
   "source": [
    "accident[accident[\"Accident_Severity\"] == \"Fatal\"][\"Light_Conditions\"].value_counts()"
   ]
  },
  {
   "cell_type": "markdown",
   "id": "b4d25640-5681-4c0a-b54d-c51bfc2a895e",
   "metadata": {},
   "source": [
    "<h3>INSIGHT 1:</h3>\n",
    "<h3>Daylight has the highest/ most fatal accidents among the Accident Severity.</h3>"
   ]
  },
  {
   "cell_type": "markdown",
   "id": "80e2bd8e-d783-4c4c-8d1a-1481a4eee180",
   "metadata": {},
   "source": [
    "<h1>Q15. What is the minimum and maximum number of casualties recorded in an accident?</h1>"
   ]
  },
  {
   "cell_type": "code",
   "execution_count": 125,
   "id": "3f890bf7-fd7c-4c1c-98e8-f20bc9b8fefb",
   "metadata": {},
   "outputs": [
    {
     "data": {
      "text/plain": [
       "np.int64(68)"
      ]
     },
     "execution_count": 125,
     "metadata": {},
     "output_type": "execute_result"
    }
   ],
   "source": [
    "accident['Number_of_Casualties'].max()"
   ]
  },
  {
   "cell_type": "code",
   "execution_count": 126,
   "id": "2c4da5b0-8d31-494a-9954-b68e37fa7586",
   "metadata": {},
   "outputs": [
    {
     "data": {
      "text/plain": [
       "np.int64(1)"
      ]
     },
     "execution_count": 126,
     "metadata": {},
     "output_type": "execute_result"
    }
   ],
   "source": [
    "accident['Number_of_Casualties'].min()"
   ]
  },
  {
   "cell_type": "markdown",
   "id": "25f7e6b2-b42c-4dae-9062-07008ad08485",
   "metadata": {},
   "source": [
    "<h3>INSIGHT 1:</h3>\n",
    "<h3>The maximum number of casualties is 68.</h3>"
   ]
  },
  {
   "cell_type": "markdown",
   "id": "785c0b3c-7c0a-4a37-be0a-fcb3c0c94f09",
   "metadata": {},
   "source": [
    "<h3>INSIGHT 2:</h3>\n",
    "<h3>The minimum number of casualties is 1.</h3>"
   ]
  },
  {
   "cell_type": "markdown",
   "id": "9bec8d95-ab95-4707-bca6-27ccda5c9ee7",
   "metadata": {},
   "source": [
    "<h1>Q16. How many accidents happened in urban and rural areas by road surface condition?</h1>"
   ]
  },
  {
   "cell_type": "code",
   "execution_count": 24,
   "id": "39077e52-3628-4e59-b017-1d5ccefa9da2",
   "metadata": {},
   "outputs": [
    {
     "data": {
      "text/plain": [
       "Urban_or_Rural_Area  Road_Surface_Conditions\n",
       "Rural                Dry                        145145\n",
       "                     Wet or damp                 79005\n",
       "                     Frost or ice                10953\n",
       "                     Snow                         3102\n",
       "                     Flood over 3cm. deep          785\n",
       "Unallocated          Dry                             5\n",
       "                     Wet or damp                     5\n",
       "                     Flood over 3cm. deep            1\n",
       "Urban                Dry                        303397\n",
       "                     Wet or damp                107698\n",
       "                     Frost or ice                 7564\n",
       "                     Snow                         2788\n",
       "                     Flood over 3cm. deep          231\n",
       "Name: count, dtype: int64"
      ]
     },
     "execution_count": 24,
     "metadata": {},
     "output_type": "execute_result"
    }
   ],
   "source": [
    "accident.groupby(\"Urban_or_Rural_Area\")[\"Road_Surface_Conditions\"].value_counts()"
   ]
  },
  {
   "cell_type": "markdown",
   "id": "5ae6254a-7fb5-4b0a-9dd5-765d84c3f158",
   "metadata": {},
   "source": [
    "<h3>INSIGHT 1:</h3>\n",
    "<h3>In both urban and rural roads, most accidents happen on dry surfaces.</h3>"
   ]
  },
  {
   "cell_type": "markdown",
   "id": "8a32157b-6727-4c14-a7e3-4f0ad373f8a6",
   "metadata": {},
   "source": [
    "<h3>INSIGHT 2: </h3>\n",
    "<h3>However, wet and icy roads in rural areas appear riskier due to higher speeds and less road infrastructure.</h3>"
   ]
  },
  {
   "cell_type": "markdown",
   "id": "a6cfa22b-314f-4496-96c4-66ddd2d648ab",
   "metadata": {},
   "source": [
    "<h1>Q17. Which weather condition records the highest number of accidents?</h1>"
   ]
  },
  {
   "cell_type": "code",
   "execution_count": 25,
   "id": "70d48ebc-8945-4359-85be-2e9b4afca56d",
   "metadata": {
    "scrolled": true
   },
   "outputs": [
    {
     "data": {
      "text/plain": [
       "Weather_Conditions\n",
       "Fine no high winds       535013\n",
       "Raining no high winds     79696\n",
       "Other                     17150\n",
       "Raining + high winds       9615\n",
       "Fine + high winds          8554\n",
       "Snowing no high winds      6238\n",
       "Fog or mist                3528\n",
       "Snowing + high winds        885\n",
       "Name: count, dtype: int64"
      ]
     },
     "execution_count": 25,
     "metadata": {},
     "output_type": "execute_result"
    }
   ],
   "source": [
    "accident[\"Weather_Conditions\"].value_counts()"
   ]
  },
  {
   "cell_type": "markdown",
   "id": "386c0b3b-c985-42e3-a37f-16238dc4cf3a",
   "metadata": {},
   "source": [
    "<h3>INSIGHT 1: </h3>\n",
    "<h3>According to the result fine no high winds(clear) has the most  highest number of accidents.</h3>"
   ]
  },
  {
   "cell_type": "markdown",
   "id": "447b3717-ac2e-4a3f-ac9a-3885d6cb014d",
   "metadata": {},
   "source": [
    "<h3>INSIGHT 2:</h3>\n",
    "<h3>Rainig no high winds and fine no high winds are the two weather with hig number of accident, but no high wind is the highest with 535,013 accidents.</h3>"
   ]
  },
  {
   "cell_type": "markdown",
   "id": "c710a595-21bd-413f-bab9-49964d09e488",
   "metadata": {},
   "source": [
    "<h1>Q18. Which road type has the most accidents?</h1>"
   ]
  },
  {
   "cell_type": "code",
   "execution_count": 26,
   "id": "a33efff4-13b7-44f0-b20a-f3280fe1b924",
   "metadata": {
    "scrolled": true
   },
   "outputs": [
    {
     "data": {
      "text/plain": [
       "Road_Type\n",
       "Single carriageway    496663\n",
       "Dual carriageway       99424\n",
       "Roundabout             43992\n",
       "One way street         13559\n",
       "Slip road               7041\n",
       "Name: count, dtype: int64"
      ]
     },
     "execution_count": 26,
     "metadata": {},
     "output_type": "execute_result"
    }
   ],
   "source": [
    "accident[\"Road_Type\"].value_counts()"
   ]
  },
  {
   "cell_type": "markdown",
   "id": "44b8dffa-5174-4411-a835-6362ecf1e0a4",
   "metadata": {},
   "source": [
    "<h3>INSIGHT: </h3>\n",
    "<h3>Single carriageway has the most accidents in record with 496663 number of accidents.</h3>"
   ]
  },
  {
   "cell_type": "markdown",
   "id": "c7dfebb3-37d2-4ce7-9045-955fc0445cac",
   "metadata": {},
   "source": [
    "<h1>Q19. Which accident severity level is most common?</h1>"
   ]
  },
  {
   "cell_type": "code",
   "execution_count": 50,
   "id": "672f487a-ebd8-416b-b170-7bd39fdd90ce",
   "metadata": {
    "scrolled": true
   },
   "outputs": [
    {
     "data": {
      "text/plain": [
       "Accident_Severity\n",
       "Slight     563801\n",
       "Serious     88217\n",
       "Fatal        8661\n",
       "Name: count, dtype: int64"
      ]
     },
     "execution_count": 50,
     "metadata": {},
     "output_type": "execute_result"
    }
   ],
   "source": [
    "accident[\"Accident_Severity\"].value_counts()"
   ]
  },
  {
   "cell_type": "markdown",
   "id": "125177d6-81ed-4124-bd2c-fd73ad24ba11",
   "metadata": {},
   "source": [
    "<h3>INSIGHT 1:</h3>\n",
    "<h3>Slight accidents is the most common accident severity level.</h3>"
   ]
  },
  {
   "cell_type": "markdown",
   "id": "70b3c695-d853-418e-bd8c-bb1ef77bdac0",
   "metadata": {},
   "source": [
    "<h3>INSIGHT 2:</h3>\n",
    "<h3>Among those three severity level/accident severity, slight has the highest number with 563801, serious accident has 88217, and fatal has 8661.</h3>"
   ]
  },
  {
   "cell_type": "markdown",
   "id": "76b4fcfb-3b8d-4c35-9210-6cdefd6d0f49",
   "metadata": {},
   "source": [
    "<h1>Q20. What is the correlation between number of vehicles and number of casualties?</h1>"
   ]
  },
  {
   "cell_type": "code",
   "execution_count": 51,
   "id": "2f6b3e54-7364-4325-953f-ff004946ce11",
   "metadata": {},
   "outputs": [
    {
     "data": {
      "text/html": [
       "<div>\n",
       "<style scoped>\n",
       "    .dataframe tbody tr th:only-of-type {\n",
       "        vertical-align: middle;\n",
       "    }\n",
       "\n",
       "    .dataframe tbody tr th {\n",
       "        vertical-align: top;\n",
       "    }\n",
       "\n",
       "    .dataframe thead th {\n",
       "        text-align: right;\n",
       "    }\n",
       "</style>\n",
       "<table border=\"1\" class=\"dataframe\">\n",
       "  <thead>\n",
       "    <tr style=\"text-align: right;\">\n",
       "      <th></th>\n",
       "      <th>Number_of_Vehicles</th>\n",
       "      <th>Number_of_Casualties</th>\n",
       "    </tr>\n",
       "  </thead>\n",
       "  <tbody>\n",
       "    <tr>\n",
       "      <th>Number_of_Vehicles</th>\n",
       "      <td>1.000000</td>\n",
       "      <td>0.228889</td>\n",
       "    </tr>\n",
       "    <tr>\n",
       "      <th>Number_of_Casualties</th>\n",
       "      <td>0.228889</td>\n",
       "      <td>1.000000</td>\n",
       "    </tr>\n",
       "  </tbody>\n",
       "</table>\n",
       "</div>"
      ],
      "text/plain": [
       "                      Number_of_Vehicles  Number_of_Casualties\n",
       "Number_of_Vehicles              1.000000              0.228889\n",
       "Number_of_Casualties            0.228889              1.000000"
      ]
     },
     "execution_count": 51,
     "metadata": {},
     "output_type": "execute_result"
    }
   ],
   "source": [
    "accident[[\"Number_of_Vehicles\", \"Number_of_Casualties\"]].corr()"
   ]
  },
  {
   "cell_type": "markdown",
   "id": "07692410-7ab2-4fe9-aef8-1d0ff3f54539",
   "metadata": {},
   "source": [
    "<h1>Q21. Which year had the most accidents?</h1>"
   ]
  },
  {
   "cell_type": "code",
   "execution_count": 52,
   "id": "684c20c1-1949-43a3-ab4e-6b72dc477b41",
   "metadata": {},
   "outputs": [
    {
     "data": {
      "text/plain": [
       "Accident Date\n",
       "2019    182115\n",
       "2020    170591\n",
       "2021    163554\n",
       "2022    144419\n",
       "Name: count, dtype: int64"
      ]
     },
     "execution_count": 52,
     "metadata": {},
     "output_type": "execute_result"
    }
   ],
   "source": [
    "accident[\"Accident Date\"].dt.year.value_counts()"
   ]
  },
  {
   "cell_type": "markdown",
   "id": "1c7f1245-1617-4bc1-9044-3132e6723452",
   "metadata": {},
   "source": [
    "<h1>Q22. Which month has the most accidents?</h1>"
   ]
  },
  {
   "cell_type": "code",
   "execution_count": 53,
   "id": "9a915a17-7437-4561-996d-c054ff9c156a",
   "metadata": {},
   "outputs": [
    {
     "data": {
      "text/plain": [
       "Accident Date\n",
       "11    60424\n",
       "10    59580\n",
       "7     57445\n",
       "6     56481\n",
       "9     56455\n",
       "5     56352\n",
       "3     54086\n",
       "8     53913\n",
       "1     52872\n",
       "12    51836\n",
       "4     51744\n",
       "2     49491\n",
       "Name: count, dtype: int64"
      ]
     },
     "execution_count": 53,
     "metadata": {},
     "output_type": "execute_result"
    }
   ],
   "source": [
    "accident[\"Accident Date\"].dt.month.value_counts()"
   ]
  },
  {
   "cell_type": "markdown",
   "id": "aba91778-fdf8-4049-ab3b-8dd0b5eef462",
   "metadata": {},
   "source": [
    "<h1>Q23.Which year had the most accidents in urban areas?</h1>"
   ]
  },
  {
   "cell_type": "code",
   "execution_count": 87,
   "id": "c416fc04-72f0-4480-95a4-30db1398af9a",
   "metadata": {},
   "outputs": [
    {
     "data": {
      "text/plain": [
       "Accident Date\n",
       "2019    114552\n",
       "2020    108594\n",
       "2021    104538\n",
       "2022     93994\n",
       "Name: count, dtype: int64"
      ]
     },
     "execution_count": 87,
     "metadata": {},
     "output_type": "execute_result"
    }
   ],
   "source": [
    "accident[accident['Urban_or_Rural_Area'] == 'Urban'] ['Accident Date'].dt.year.value_counts()"
   ]
  },
  {
   "cell_type": "markdown",
   "id": "62cb6fbe-d8fa-4ca0-90ca-c85f545149f1",
   "metadata": {},
   "source": [
    "<h1>Q24. Which month has the most accidents in rural areas?</h1>"
   ]
  },
  {
   "cell_type": "code",
   "execution_count": 129,
   "id": "06d3a29a-c544-4d95-a25b-502037f81b33",
   "metadata": {},
   "outputs": [
    {
     "data": {
      "text/plain": [
       "Accident Date\n",
       "11    21352\n",
       "7     21215\n",
       "8     20998\n",
       "10    20786\n",
       "6     20200\n",
       "5     20125\n",
       "9     20035\n",
       "1     19540\n",
       "12    19361\n",
       "3     18806\n",
       "4     18432\n",
       "2     18140\n",
       "Name: count, dtype: int64"
      ]
     },
     "execution_count": 129,
     "metadata": {},
     "output_type": "execute_result"
    }
   ],
   "source": [
    "accident[accident['Urban_or_Rural_Area'] == 'Rural'] ['Accident Date'].dt.month.value_counts()"
   ]
  },
  {
   "cell_type": "markdown",
   "id": "9ff40639-f29f-4c74-8737-94ee84b30e65",
   "metadata": {},
   "source": [
    "<h1>Q24. Which day of week sees the most fatal accidents?</h1>"
   ]
  },
  {
   "cell_type": "code",
   "execution_count": 91,
   "id": "c25d7dd1-a82a-4f41-b109-78bf57b6a683",
   "metadata": {},
   "outputs": [
    {
     "data": {
      "text/plain": [
       "Accident Date\n",
       "6    1522\n",
       "0    1385\n",
       "5    1326\n",
       "2    1113\n",
       "4    1113\n",
       "1    1105\n",
       "3    1097\n",
       "Name: count, dtype: int64"
      ]
     },
     "execution_count": 91,
     "metadata": {},
     "output_type": "execute_result"
    }
   ],
   "source": [
    "accident[accident['Accident_Severity'] == 'Fatal'] ['Accident Date'].dt.dayofweek.value_counts()"
   ]
  },
  {
   "cell_type": "markdown",
   "id": "05778e34-a4f4-4846-85ba-981c8c5febde",
   "metadata": {},
   "source": [
    "<h1>Q25. Which month has the most serious accidents?</h1>"
   ]
  },
  {
   "cell_type": "code",
   "execution_count": 92,
   "id": "74713ef6-87bd-46e7-8ea7-15a5ac8fb293",
   "metadata": {},
   "outputs": [
    {
     "data": {
      "text/plain": [
       "Accident Date\n",
       "9     7987\n",
       "10    7939\n",
       "6     7916\n",
       "7     7863\n",
       "5     7721\n",
       "11    7568\n",
       "8     7532\n",
       "4     7336\n",
       "3     7118\n",
       "1     6681\n",
       "12    6310\n",
       "2     6246\n",
       "Name: count, dtype: int64"
      ]
     },
     "execution_count": 92,
     "metadata": {},
     "output_type": "execute_result"
    }
   ],
   "source": [
    "accident[accident['Accident_Severity'] == 'Serious'] ['Accident Date'].dt.month.value_counts()"
   ]
  },
  {
   "cell_type": "code",
   "execution_count": null,
   "id": "1fd396ca-f41a-4fdf-8e89-1d83525d1f9a",
   "metadata": {},
   "outputs": [],
   "source": []
  }
 ],
 "metadata": {
  "kernelspec": {
   "display_name": "Python 3 (ipykernel)",
   "language": "python",
   "name": "python3"
  },
  "language_info": {
   "codemirror_mode": {
    "name": "ipython",
    "version": 3
   },
   "file_extension": ".py",
   "mimetype": "text/x-python",
   "name": "python",
   "nbconvert_exporter": "python",
   "pygments_lexer": "ipython3",
   "version": "3.13.7"
  }
 },
 "nbformat": 4,
 "nbformat_minor": 5
}
